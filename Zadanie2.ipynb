{
  "nbformat": 4,
  "nbformat_minor": 0,
  "metadata": {
    "colab": {
      "provenance": [],
      "authorship_tag": "ABX9TyOP9rbauIXhFEhcKtXQVT8w",
      "include_colab_link": true
    },
    "kernelspec": {
      "name": "python3",
      "display_name": "Python 3"
    },
    "language_info": {
      "name": "python"
    }
  },
  "cells": [
    {
      "cell_type": "markdown",
      "metadata": {
        "id": "view-in-github",
        "colab_type": "text"
      },
      "source": [
        "<a href=\"https://colab.research.google.com/github/agatacichowska/psi2024/blob/main/Zadanie2.ipynb\" target=\"_parent\"><img src=\"https://colab.research.google.com/assets/colab-badge.svg\" alt=\"Open In Colab\"/></a>"
      ]
    },
    {
      "cell_type": "code",
      "execution_count": null,
      "metadata": {
        "id": "hW6sGwwT_frm"
      },
      "outputs": [],
      "source": [
        "\n",
        "lotnisko(warszawa).\n",
        "lotnisko(krakow).\n",
        "lotnisko(gdansk).\n",
        "\n",
        "polaczenie(warszawa, krakow, 300).\n",
        "polaczenie(krakow, gdansk, 200).\n",
        "polaczenie(warszawa, gdansk, 500).\n",
        "\n",
        "\n",
        "polaczenie(X,Y) :- polaczenie(X,Y,_).\n",
        "polaczenie(X,Y) :- polaczenie(Y,X,_).\n",
        "koszt_podrozy(X,Y,C) :- polaczenie(X,Y,C).\n",
        "koszt_podrozy(X,Y,C) :-  polaczenie(Y,X,C).\n",
        "\n",
        "najkrotsza_droga(X,Y) :- polaczenie(X,Y,C),\n",
        "format('Trasa bezpośrednia, koszt: ~w~n', [C]).\n",
        "najkrotsza_droga(X,Y) :- polaczenie(X,Z, C1), polaczenie(Z,Y,C2),\n",
        "C is C1 + C2,\n",
        "format('Trasa przez ~w, koszt: ~w~n', [Z,C]).\n"
      ]
    }
  ]
}
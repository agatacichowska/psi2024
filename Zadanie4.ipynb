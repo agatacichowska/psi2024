{
  "nbformat": 4,
  "nbformat_minor": 0,
  "metadata": {
    "colab": {
      "provenance": [],
      "authorship_tag": "ABX9TyPrRnVsZ4x39JVOurrtKR5R",
      "include_colab_link": true
    },
    "kernelspec": {
      "name": "python3",
      "display_name": "Python 3"
    },
    "language_info": {
      "name": "python"
    }
  },
  "cells": [
    {
      "cell_type": "markdown",
      "metadata": {
        "id": "view-in-github",
        "colab_type": "text"
      },
      "source": [
        "<a href=\"https://colab.research.google.com/github/agatacichowska/psi2024/blob/main/Zadanie4.ipynb\" target=\"_parent\"><img src=\"https://colab.research.google.com/assets/colab-badge.svg\" alt=\"Open In Colab\"/></a>"
      ]
    },
    {
      "cell_type": "code",
      "execution_count": null,
      "metadata": {
        "id": "pzNpqlmHCjkg"
      },
      "outputs": [],
      "source": [
        "miasto(warszawa).\n",
        "miasto(krakow).\n",
        "miasto(poznan).\n",
        "droga(warszawa, krakow, 4).\n",
        "droga(krakow, poznan, 3).\n",
        "droga(warszawa, poznan, 7).\n",
        "\n",
        "droga(X,Y) :- droga(X,Y,_).\n",
        "droga(X,Y) :- droga(Y,X,_).\n",
        "\n",
        "czas_przejazdu(X,Y,T) :- droga(X,Y,T).\n",
        "czas_przejazdu(X,Y,T) :- droga(X,Z,T1), czas_przejazdu(Z,Y,T2),\n",
        "    T is T1 + T2.\n",
        "\n",
        "znajdz_trase(X, Y, [X, Y], T) :- droga(X, Y, T).\n",
        "znajdz_trase(X, Y, [X | Trasa], T) :- droga(X, Z, T1), znajdz_trase(Z, Y, Trasa, T2),\n",
        "    T is T1 + T2,\n",
        "    \\+ member(X, Trasa).\n",
        "\n",
        "najkrotsza_trasa(X, Y) :-\n",
        "setof((T, P), znajdz_trase(X, Y, P, T), Wynik),\n",
        "    Wynik = [(NajkrotszyCzas, Trasa) | _],\n",
        "    format('Trasa z ~w do ~w: ~w, czas: ~w.~n', [X, Y, Trasa, NajkrotszyCzas]).\n"
      ]
    }
  ]
}
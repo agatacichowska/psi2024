Które z następujących zadań wymagają w Twojej opinii inteligencji od człowieka:
• wypełnianie deklaracji PIT- nie wymaga intilegincji, ponieważ opiera się na wypełnianiu dokumentu według danego wzoru i przepisów
• streszczanie tekstu- wymaga inteligencji oraz umiejętności analizy i rozumienia tekstu. Osoba, która streszcza tekst musi odpowiednio wyłapać najwarzniejsze wątki i skrócić tekst.
• tłumaczenie tekstu- wymaga inteligencji i tak jak wyżej umiejętności analizy i rozumienia tekstu oraz zmojomości obu języków. Tłumacz musi wiedzieć jak poprawnie przetłumaczyć tekst uwzglęgniając kontekst, styl pisania itd. oraz unikać "dosłownych" tłumaczeń i kalk językowych.
• klasyfikacja tekstu do kategorii tematycznych- nie wymaga intilegencji, wystarczy rozpoznać kluczowe tematy i słowa i dopasawać do danej kategorii.
• odpowiadanie na proste pytania zadawane w języku naturalnym (np. polskim)- nie wymaga inteligecji, są to proste pytania, których odpowiedzi w wielu przypadkach są dla nas automatyczne i nie wymagają namysłu. Bardziej złożone pytania wymagałyby inteligencji.
• układanie rozkładu jazdy transportu miejskiego- wymaga inteligencji, ponieważ wymaga uwzględnienie wielu czynników jak popluarność tras, godziny szczytu oraz inne potrzeby pasażerów i jest to dość złożony proces wymagający dobrej analizy i oceny sytuacji.
• programowanie (pisanie programów komputerowych)- wymaga inteligencji, ponieważ wymaga znajomości języka programowania, algorytów oraz umiejętności rozwiązywania problemów. Jest to złożony i trudny proces zwłaszcza przy większych projektach.
• „programowanie” kanałów telewizyjnych- nie wymaga inteligencji, opiera się głównie na statystykach oglądalności i popularności danych treści wśród swoich odbirców.
• testowanie oprogramowania- częściowo wymaga inteligencji, testowane są podane przypadki, by ocenić użytkowność opragramowania i pewnej mierze odbywa się to na zasadzie jakichś schematów i może być zautomatyzowane, lecz też wymaga kreatywności i analizy wyników oraz wyłapywania blędów.
• komponowanie muzyki- wymaga inteligencji, kreatywności, twórczości oraz znajomości przynajmniej podstawowych elementów muzyki. Ważne jest też odpowiednie przekazanie emocji. Wszystko to wymaga inteligencji.
• rozwiązywanie układów równań- nie wymaga inteligencji, głównie opiera się na podanych wzorach i schematach trzeba jedynie ich odpowiednio użyć
• symboliczne obliczanie pochodnych funkcji- tak jak wyżej nie wymaga inteligencji, poniważ opiera się na regułach matematycznych i wymaga jedynie ich użycia
• symboliczne całkowanie funkcji- częściowo wymaga inteligencji, ponieważ istnieją wzory na ich rozwiązywanie lecz nie można użyć ich w każdym przypadku oraz wymagają więcej niż tylko użycia prostego wzoru jak w przypadku wyżej
• kierowanie samochodem- wymaga inteligencji, ponieważ oprócz znajomości obsługi samochodu trzeba również analizować otoczenie oraz w razie konieczności szybko podejmować decyzję dostosować się do warunków.

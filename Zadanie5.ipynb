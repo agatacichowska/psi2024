{
  "nbformat": 4,
  "nbformat_minor": 0,
  "metadata": {
    "colab": {
      "provenance": [],
      "authorship_tag": "ABX9TyMAzRZYZIwo9xgcXvuD7sOj",
      "include_colab_link": true
    },
    "kernelspec": {
      "name": "python3",
      "display_name": "Python 3"
    },
    "language_info": {
      "name": "python"
    }
  },
  "cells": [
    {
      "cell_type": "markdown",
      "metadata": {
        "id": "view-in-github",
        "colab_type": "text"
      },
      "source": [
        "<a href=\"https://colab.research.google.com/github/agatacichowska/psi2024/blob/main/Zadanie5.ipynb\" target=\"_parent\"><img src=\"https://colab.research.google.com/assets/colab-badge.svg\" alt=\"Open In Colab\"/></a>"
      ]
    },
    {
      "cell_type": "code",
      "execution_count": null,
      "metadata": {
        "id": "5x636jCuI5ST"
      },
      "outputs": [],
      "source": [
        "ksiazka('W pustyni i w puszczy', sienkiewicz, przygodowa).\n",
        "ksiazka('Hobbit', tolkien, fantasy).\n",
        "ksiazka('Pan Tadeusz', mickiewicz, poezja).\n",
        "ocena(uzytkownik1, 'W pustyni i w puszczy', 5).\n",
        "ocena(uzytkownik1, 'Hobbit', 4).\n",
        "ocena(uzytkownik1, 'Pan Tadeusz', 3).\n",
        "preferencje(uzytkownik1, fantasy).\n",
        "\n",
        ":- dynamic ksiazka/3.\n",
        ":- dynamic ocena/3.\n",
        ":- dynamic preferencje/2.\n",
        "\n",
        "polecane_ksiazki(Uzytkownik, Gatunek, Lista) :-\n",
        "    preferencje(Uzytkownik, Gatunek),\n",
        "    findall(Tytul, (ksiazka(Tytul,_,Gatunek),  ocena(Uzytkownik, Tytul, Ocena),\n",
        "    Ocena >= 4), Lista).\n",
        "\n",
        "dodaj_ocene(Uzytkownik, Tytul, Ocena) :- retract(ocena(Uzytkownik, Tytul,_)),\n",
        "  assertz(ocena(Uzytkownik,Tytul,Ocena)).\n",
        "usun_ocene(Uzytkownik, Tytul) :- retract(ocena(Uzytkownik, Tytul, _)).\n",
        "\n",
        "#w tym przypadku zapytanie o polecane ksiażki brzmi np. polecane_ksiazki(uzytkownik1, fantasy, Lista)."
      ]
    }
  ]
}
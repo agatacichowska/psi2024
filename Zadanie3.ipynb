{
  "nbformat": 4,
  "nbformat_minor": 0,
  "metadata": {
    "colab": {
      "provenance": [],
      "authorship_tag": "ABX9TyPfuHwmVBUB4YbnzBC4m8AX",
      "include_colab_link": true
    },
    "kernelspec": {
      "name": "python3",
      "display_name": "Python 3"
    },
    "language_info": {
      "name": "python"
    }
  },
  "cells": [
    {
      "cell_type": "markdown",
      "metadata": {
        "id": "view-in-github",
        "colab_type": "text"
      },
      "source": [
        "<a href=\"https://colab.research.google.com/github/agatacichowska/psi2024/blob/main/Zadanie3.ipynb\" target=\"_parent\"><img src=\"https://colab.research.google.com/assets/colab-badge.svg\" alt=\"Open In Colab\"/></a>"
      ]
    },
    {
      "cell_type": "code",
      "source": [
        ":- dynamic produkt/3.\n",
        "produkt(tv, 10, sektor_a).\n",
        "produkt(pralka, 5, sektor_b).\n",
        "produkt(lodowka, 3, sektor_c).\n",
        "\n",
        "\n",
        "dostepny_produkt(X) :- produkt(X, Ilosc, _), Ilosc > 0.\n",
        "\n",
        "przenies_produkt(X, Y) :- retract(produkt(X, Ilosc, _)),\n",
        "    assertz(produkt(X, Ilosc, Y)),\n",
        "    format('produkt(~w, ~w, ~w)~n', [X, Ilosc, Y]).\n",
        "\n",
        "dodaj(Ilosc, N, Nowailosc) :- Nowailosc is Ilosc + N.\n",
        "\n",
        "uzupelnij_stan(X, N) :-\n",
        "    retract(produkt(X, Ilosc, Sektor)),\n",
        "    dodaj(Ilosc, N, Nowailosc),\n",
        "    assertz(produkt(X, Nowailosc, Sektor)),\n",
        "    format('produkt(~w, ~w, ~w)~n', [X, Nowailosc, Sektor])."
      ],
      "metadata": {
        "id": "-yw7qLueCbaC"
      },
      "execution_count": null,
      "outputs": []
    }
  ]
}
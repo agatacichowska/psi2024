{
  "nbformat": 4,
  "nbformat_minor": 0,
  "metadata": {
    "colab": {
      "provenance": [],
      "authorship_tag": "ABX9TyP1hOLMyqsIseyU8ux+Xvqm",
      "include_colab_link": true
    },
    "kernelspec": {
      "name": "python3",
      "display_name": "Python 3"
    },
    "language_info": {
      "name": "python"
    }
  },
  "cells": [
    {
      "cell_type": "markdown",
      "metadata": {
        "id": "view-in-github",
        "colab_type": "text"
      },
      "source": [
        "<a href=\"https://colab.research.google.com/github/agatacichowska/psi2024/blob/main/zadanie1.ipynb\" target=\"_parent\"><img src=\"https://colab.research.google.com/assets/colab-badge.svg\" alt=\"Open In Colab\"/></a>"
      ]
    },
    {
      "cell_type": "code",
      "execution_count": null,
      "metadata": {
        "collapsed": true,
        "id": "L51KTXWH-5Qt"
      },
      "outputs": [],
      "source": [
        "ojciec(dariusz, magda).\n",
        "ojciec(dariusz, jan).\n",
        "ojciec(przemek, martyna).\n",
        "matka(małgorzata, magda).\n",
        "matka(małgorzata, jan).\n",
        "matka(ania, martyna).\n",
        "\n",
        "\n",
        "siostra(małgorzata, ania).\n",
        "siostra(ania, małgorzata).\n",
        "siostra(X,Y) :- kobieta(X), rodzic(Z,X), rodzic(Z,Y).\n",
        "brat(X,Y) :-  mezczyzna(X), rodzic(Z,X), rodzic(Z,Y).\n",
        "\n",
        "malzenstwo(dariusz, małgorzata).\n",
        "malzenstwo(przemek, ania).\n",
        "\n",
        "mezczyzna(dariusz).\n",
        "mezczyzna(jan).\n",
        "mezczyzna(przemek).\n",
        "kobieta(małgorzata).\n",
        "kobieta(magda).\n",
        "kobieta(ania).\n",
        "kobieta(martyna).\n",
        "\n",
        "rodzic(X, Y) :- ojciec(X, Y).\n",
        "rodzic(X, Y) :- matka(X, Y).\n",
        "\n",
        "przodek(X,Y) :- rodzic(X,Y).\n",
        "przodek(X,Y) :- rodzic(X,Z), rodzic(Z,Y).\n",
        "\n",
        "\n",
        "kuzyn(X,Y) :- rodzic(Z,X), rodzic(W,Y), brat(Z,W).\n",
        "kuzyn(X,Y) :- rodzic(Z,X), rodzic(W,Y), siostra(Z,W).\n",
        "\n",
        "\n"
      ]
    }
  ]
}